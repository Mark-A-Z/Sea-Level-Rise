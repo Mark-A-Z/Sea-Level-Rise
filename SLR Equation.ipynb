{
 "cells": [
  {
   "cell_type": "code",
   "execution_count": 5,
   "metadata": {
    "scrolled": true
   },
   "outputs": [
    {
     "name": "stdout",
     "output_type": "stream",
     "text": [
      "Enter Year between 1951 and 1980: 1920\n",
      "The annual rate of SLR is: 8.7048\n"
     ]
    }
   ],
   "source": [
    "import pandas as pd\n",
    "#name columns\n",
    "giss = pd.read_csv('giss_landocean.csv', names = ['year','2','3','4','5','6','7','8','9','10','11','12','13','14','15','16','17','18','19','20'])\n",
    "#giss=giss.truncate(before=71, after=100, copy=True)\n",
    "x = input('Enter Year between 1951 and 1980: ')\n",
    "#user input year\n",
    "#locate corresponding row and adjacent rows\n",
    "row = giss.loc[giss['year']==x].index[0]\n",
    "row_previous = giss.loc[giss['year']==x-1].index[0]\n",
    "row_after = giss.loc[giss['year']==x+1].index[0]\n",
    "#locate column 14 value\n",
    "#locate previous year and subsequent year value in column 14\n",
    "T = giss.iloc[row,13]\n",
    "T_previous = giss.iloc[row_previous,13]\n",
    "T_after = giss.iloc[row_after,13]\n",
    "#equation\n",
    "T2 = ((T/100.000) - .375) * .080\n",
    "dT = ((abs(T_previous - T)/1.000 + abs(T_after - T)/1.000)/2.000)*2.500\n",
    "dH = T2 + dT\n",
    "print(\"The annual rate of SLR is: {}\".format(dH))\n"
   ]
  },
  {
   "cell_type": "code",
   "execution_count": null,
   "metadata": {},
   "outputs": [],
   "source": []
  }
 ],
 "metadata": {
  "kernelspec": {
   "display_name": "Python 2",
   "language": "python",
   "name": "python2"
  },
  "language_info": {
   "codemirror_mode": {
    "name": "ipython",
    "version": 2
   },
   "file_extension": ".py",
   "mimetype": "text/x-python",
   "name": "python",
   "nbconvert_exporter": "python",
   "pygments_lexer": "ipython2",
   "version": "2.7.15"
  }
 },
 "nbformat": 4,
 "nbformat_minor": 2
}
